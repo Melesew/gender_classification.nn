{
 "cells": [
  {
   "cell_type": "code",
   "execution_count": 2,
   "metadata": {},
   "outputs": [],
   "source": [
    "''' Packages'''\n",
    "import numpy as np\n",
    "import h5py\n",
    "import matplotlib.pyplot as plt\n",
    "import scipy\n",
    "from PIL import Image\n",
    "from scipy import ndimage\n",
    "from utils import *\n",
    "\n",
    "plt.rcParams['figure.figsize'] = (5.0, 4.0) # set default size of plots\n",
    "plt.rcParams['image.interpolation'] = 'nearest'\n",
    "plt.rcParams['image.cmap'] = 'gray'\n",
    "\n",
    "#make all random function calls constant\n",
    "np.random.seed(1)"
   ]
  },
  {
   "cell_type": "code",
   "execution_count": 3,
   "metadata": {},
   "outputs": [],
   "source": [
    "''' Dataset'''  \n",
    "\n",
    "train_set_input, train_set_label, test_set_input, test_set_label, classes = load_data()\n"
   ]
  },
  {
   "cell_type": "code",
   "execution_count": 5,
   "metadata": {},
   "outputs": [
    {
     "data": {
      "image/png": "[encoded data removed]",
      "text/plain": [
       "<Figure size 360x288 with 1 Axes>"
      ]
     },
     "metadata": {},
     "output_type": "display_data"
    },
    {
     "name": "stdout",
     "output_type": "stream",
     "text": [
      "y = 1. It's a male picture.\n"
     ]
    }
   ],
   "source": [
    "# Example of picture\n",
    "index = 10\n",
    "plt.imshow(train_set_input[index])\n",
    "plt.show()\n",
    "print(\"y = \" + str(train_set_label[0, index]) + \". It's a \" + str(classes[train_set_label[0, index]]) + \" picture.\")\n"
   ]
  },
  {
   "cell_type": "code",
   "execution_count": 8,
   "metadata": {},
   "outputs": [
    {
     "name": "stdout",
     "output_type": "stream",
     "text": [
      "Number of training examples: 1000\n",
      "Number of testing examples: 500\n",
      "Each image is of size: (64, 64, 3)\n",
      "train_set_input shape: (1000, 64, 64, 3)\n",
      "train_set_label shape: (1, 1000)\n",
      "test_set_input shape: (500, 64, 64, 3)\n",
      "test_set_label shape: (1, 500)\n"
     ]
    }
   ],
   "source": [
    "# Explore your dataset\n",
    "num_train_data = train_set_input.shape[0]\n",
    "num_px = train_set_input.shape[1]\n",
    "num_test_data = test_set_input.shape[0]\n",
    "\n",
    "print (\"Number of training examples: \" + str(num_train_data))\n",
    "print (\"Number of testing examples: \" + str(num_test_data))\n",
    "print (\"Each image is of size: (\" + str(num_px) + \", \" + str(num_px) + \", 3)\")\n",
    "print (\"train_set_input shape: \" + str(train_set_input.shape))\n",
    "print (\"train_set_label shape: \" + str(train_set_label.shape))\n",
    "print (\"test_set_input shape: \" + str(test_set_input.shape))\n",
    "print (\"test_set_label shape: \" + str(test_set_label.shape))"
   ]
  },
  {
   "cell_type": "code",
   "execution_count": 9,
   "metadata": {},
   "outputs": [
    {
     "name": "stdout",
     "output_type": "stream",
     "text": [
      "train_x's shape: (12288, 1000)\n",
      "test_x's shape: (12288, 500)\n"
     ]
    }
   ],
   "source": [
    "# Reshape the training and test examples\n",
    "train_x_flatten = train_set_input.reshape(train_set_input.shape[0], -1).T   # The \"-1\" makes reshape flatten the remaining dimensions\n",
    "test_x_flatten = test_set_input.reshape(test_set_input.shape[0], -1).T\n",
    "\n",
    "# Standardize data to have feature values between 0 and 1.\n",
    "train_x = train_x_flatten/255.\n",
    "test_x = test_x_flatten/255.\n",
    "\n",
    "print (\"train_x's shape: \" + str(train_x.shape))\n",
    "print (\"test_x's shape: \" + str(test_x.shape))"
   ]
  },
  {
   "cell_type": "markdown",
   "metadata": {},
   "source": [
    "# Implement a two layer network"
   ]
  },
  {
   "cell_type": "code",
   "execution_count": 10,
   "metadata": {},
   "outputs": [],
   "source": [
    "### CONSTANTS DEFINING THE MODEL ####\n",
    "n_x = 12288     # num_px * num_px * 3\n",
    "n_h = 7\n",
    "n_y = 1\n",
    "layers_dims = (n_x, n_h, n_y)"
   ]
  },
  {
   "cell_type": "code",
   "execution_count": 11,
   "metadata": {},
   "outputs": [],
   "source": [
    "def two_layer_model(X, Y, layers_dims, learning_rate=0.0075, num_iterations=3000, print_cost=False):\n",
    "    np.random.seed(1)\n",
    "    gradients = {}\n",
    "    costs = []  # to keep track of the cost\n",
    "    m = X.shape[1]  # number of examples\n",
    "    (n_x, n_h, n_y) = layers_dims\n",
    "\n",
    "    # Initialize parameters dictionary, by calling one of the functions you'd previously implemented\n",
    "    ### START CODE HERE ### (≈ 1 line of code)\n",
    "    parameters = initialize_parameters(n_x, n_h, n_y)\n",
    "    ### END CODE HERE ###\n",
    "\n",
    "    # Get W1, b1, W2 and b2 from the dictionary parameters.\n",
    "    W1 = parameters[\"W1\"]\n",
    "    b1 = parameters[\"b1\"]\n",
    "    W2 = parameters[\"W2\"]\n",
    "    b2 = parameters[\"b2\"]\n",
    "\n",
    "    # Loop (gradient descent)\n",
    "\n",
    "    for i in range(0, num_iterations):\n",
    "\n",
    "        # Forward propagation: LINEAR -> RELU -> LINEAR -> SIGMOID. Inputs: \"X, W1, b1, W2, b2\". Output: \"A1, cache1, A2, cache2\".\n",
    "        ### START CODE HERE ### (≈ 2 lines of code)\n",
    "        A1, cache1 = linear_activation_forward(X, W1, b1, \"relu\")\n",
    "        A2, cache2 = linear_activation_forward(A1, W2, b2, \"sigmoid\")\n",
    "        ### END CODE HERE ###\n",
    "\n",
    "        # Compute cost\n",
    "        ### START CODE HERE ### (≈ 1 line of code)\n",
    "        cost = compute_cost(A2, Y)\n",
    "        ### END CODE HERE ###\n",
    "\n",
    "        # Initializing backward propagation\n",
    "        dA2 = - (np.divide(Y, A2) - np.divide(1 - Y, 1 - A2))\n",
    "\n",
    "        # Backward propagation. Inputs: \"dA2, cache2, cache1\". Outputs: \"dA1, dW2, db2; also dA0 (not used), dW1, db1\".\n",
    "        ### START CODE HERE ### (≈ 2 lines of code)\n",
    "        dA1, dW2, db2 = linear_activation_backward(dA2, cache2, \"sigmoid\")\n",
    "        dA0, dW1, db1 = linear_activation_backward(dA1, cache1, \"relu\")\n",
    "        ### END CODE HERE ###\n",
    "\n",
    "        # Set gradients['dWl'] to dW1, gradients['db1'] to db1, gradients['dW2'] to dW2, gradients['db2'] to db2\n",
    "        gradients['dW1'] = dW1\n",
    "        gradients['db1'] = db1\n",
    "        gradients['dW2'] = dW2\n",
    "        gradients['db2'] = db2\n",
    "\n",
    "        # Update parameters.\n",
    "        ### START CODE HERE ### (approx. 1 line of code)\n",
    "        parameters = update_parameters(parameters, gradients, learning_rate)\n",
    "        ### END CODE HERE ###\n",
    "\n",
    "        # Retrieve W1, b1, W2, b2 from parameters\n",
    "        W1 = parameters[\"W1\"]\n",
    "        b1 = parameters[\"b1\"]\n",
    "        W2 = parameters[\"W2\"]\n",
    "        b2 = parameters[\"b2\"]\n",
    "\n",
    "        # Print the cost every 100 training example\n",
    "        if print_cost and i % 100 == 0:\n",
    "            print(\"Cost after iteration {}: {}\".format(i, np.squeeze(cost)))\n",
    "        if print_cost and i % 100 == 0:\n",
    "            costs.append(cost)\n",
    "\n",
    "    # plot the cost\n",
    "\n",
    "    plt.plot(np.squeeze(costs))\n",
    "    plt.ylabel('cost')\n",
    "    plt.xlabel('iterations (per tens)')\n",
    "    plt.title(\"Learning rate =\" + str(learning_rate))\n",
    "    plt.show()\n",
    "\n",
    "    return parameters"
   ]
  },
  {
   "cell_type": "code",
   "execution_count": 13,
   "metadata": {},
   "outputs": [
    {
     "name": "stdout",
     "output_type": "stream",
     "text": [
      "Cost after iteration 0: 0.6929811239232038\n",
      "Cost after iteration 100: 0.6926912219698127\n",
      "Cost after iteration 200: 0.6922164813543911\n",
      "Cost after iteration 300: 0.6914242951655148\n",
      "Cost after iteration 400: 0.6900844190638522\n",
      "Cost after iteration 500: 0.6878873266914748\n",
      "Cost after iteration 600: 0.6845645256945968\n",
      "Cost after iteration 700: 0.6801810065509478\n",
      "Cost after iteration 800: 0.675286814719802\n",
      "Cost after iteration 900: 0.6705352535812904\n",
      "Cost after iteration 1000: 0.6660435298421367\n",
      "Cost after iteration 1100: 0.6615241845667368\n",
      "Cost after iteration 1200: 0.6567427931046396\n",
      "Cost after iteration 1300: 0.6514663158459253\n",
      "Cost after iteration 1400: 0.645662274813737\n",
      "Cost after iteration 1500: 0.6393421103464055\n",
      "Cost after iteration 1600: 0.6324833711654725\n",
      "Cost after iteration 1700: 0.6250396646855996\n",
      "Cost after iteration 1800: 0.6170705763305856\n",
      "Cost after iteration 1900: 0.6086470582029778\n",
      "Cost after iteration 2000: 0.5998422478481686\n",
      "Cost after iteration 2100: 0.5907218177708731\n",
      "Cost after iteration 2200: 0.623443802013465\n",
      "Cost after iteration 2300: 0.6119910147265186\n",
      "Cost after iteration 2400: 0.6076801851519517\n"
     ]
    },
    {
     "data": {
      "image/png": "[encoded data removed]",
      "text/plain": [
       "<Figure size 360x288 with 1 Axes>"
      ]
     },
     "metadata": {},
     "output_type": "display_data"
    }
   ],
   "source": [
    "parameters = two_layer_model(train_x, train_set_label, layers_dims = (n_x, n_h, n_y), num_iterations = 2500, print_cost=True)"
   ]
  },
  {
   "cell_type": "code",
   "execution_count": 14,
   "metadata": {},
   "outputs": [
    {
     "name": "stdout",
     "output_type": "stream",
     "text": [
      "Accuracy: 0.6590000000000001\n"
     ]
    }
   ],
   "source": [
    "predictions_train = predict(train_x, train_set_label, parameters)"
   ]
  },
  {
   "cell_type": "code",
   "execution_count": 15,
   "metadata": {},
   "outputs": [
    {
     "name": "stdout",
     "output_type": "stream",
     "text": [
      "Accuracy: 0.5720000000000001\n"
     ]
    }
   ],
   "source": [
    "predictions_test = predict(test_x, test_set_label, parameters)"
   ]
  },
  {
   "cell_type": "markdown",
   "metadata": {},
   "source": [
    "#  Implement Multilayer Network"
   ]
  },
  {
   "cell_type": "markdown",
   "metadata": {},
   "source": [
    "LINEAR -> SIGMOID. The functions you may need and their inputs are:\n",
    "\n",
    "def initialize_parameters_deep(layers_dims):\n",
    "    ...\n",
    "    return parameters \n",
    "def L_model_forward(X, parameters):\n",
    "    ...\n",
    "    return AL, caches\n",
    "def compute_cost(AL, Y):\n",
    "    ...\n",
    "    return cost\n",
    "def L_model_backward(AL, Y, caches):\n",
    "    ...\n",
    "    return grads\n",
    "def update_parameters(parameters, grads, learning_rate):\n",
    "    ...\n",
    "    return parameters"
   ]
  },
  {
   "cell_type": "code",
   "execution_count": 16,
   "metadata": {},
   "outputs": [],
   "source": [
    "layers_dims = [12288, 20, 7, 5, 1] #  4-layer model\n",
    "\n",
    "def four_layer_model(X, Y, layers_dims, learning_rate = 0.0075, num_iterations = 3000, print_cost= False):\n",
    "    np.random.seed(1)\n",
    "    costs = []\n",
    "    parameters = initialize_parameters_deep(layers_dims)\n",
    "\n",
    "    # Loop (gradient descent)\n",
    "    for i in range(0, num_iterations):\n",
    "        # Forward propagation: [LINEAR -> RELU]*(L-1) -> LINEAR -> SIGMOID.\n",
    "        AL, caches = L_model_forward(X, parameters)\n",
    "        cost = compute_cost(AL, Y)\n",
    "\n",
    "        # Backward propagation.\n",
    "        grads = L_model_backward(AL, Y, caches)\n",
    "\n",
    "        parameters = update_parameters(parameters, grads, learning_rate)\n",
    "\n",
    "       # Print the cost every 100 training example\n",
    "        if print_cost and i % 100 == 0:\n",
    "            print (\"Cost after iteration %i: %f\" %(i, cost))\n",
    "        if print_cost and i % 100 == 0:\n",
    "            costs.append(cost)\n",
    "            \n",
    "    # plot the cost\n",
    "    plt.plot(np.squeeze(costs))\n",
    "    plt.ylabel('cost')\n",
    "    plt.xlabel('iterations (per tens)')\n",
    "    plt.title(\"Learning rate =\" + str(learning_rate))\n",
    "    plt.show()\n",
    "\n",
    "    return parameters\n"
   ]
  },
  {
   "cell_type": "code",
   "execution_count": 17,
   "metadata": {},
   "outputs": [
    {
     "name": "stdout",
     "output_type": "stream",
     "text": [
      "Cost after iteration 0: 0.707308\n",
      "Cost after iteration 100: 0.680761\n",
      "Cost after iteration 200: 0.670928\n",
      "Cost after iteration 300: 0.660198\n",
      "Cost after iteration 400: 0.649282\n",
      "Cost after iteration 500: 0.640802\n",
      "Cost after iteration 600: 0.629975\n",
      "Cost after iteration 700: 0.620080\n",
      "Cost after iteration 800: 0.608495\n",
      "Cost after iteration 900: 0.613773\n",
      "Cost after iteration 1000: 0.595224\n",
      "Cost after iteration 1100: 0.614183\n",
      "Cost after iteration 1200: 0.569231\n",
      "Cost after iteration 1300: 0.552923\n",
      "Cost after iteration 1400: 0.561799\n",
      "Cost after iteration 1500: 0.547619\n",
      "Cost after iteration 1600: 0.579177\n",
      "Cost after iteration 1700: 0.582980\n",
      "Cost after iteration 1800: 0.556937\n",
      "Cost after iteration 1900: 0.605797\n",
      "Cost after iteration 2000: 0.577020\n",
      "Cost after iteration 2100: 0.613103\n",
      "Cost after iteration 2200: 0.516261\n",
      "Cost after iteration 2300: 0.578665\n",
      "Cost after iteration 2400: 0.467709\n"
     ]
    },
    {
     "data": {
      "image/png": "[encoded data removed]",
      "text/plain": [
       "<Figure size 360x288 with 1 Axes>"
      ]
     },
     "metadata": {},
     "output_type": "display_data"
    }
   ],
   "source": [
    "# predictions\n",
    "parameters = four_layer_model(train_x, train_set_label, layers_dims, num_iterations = 2500, print_cost = True)\n"
   ]
  },
  {
   "cell_type": "code",
   "execution_count": 18,
   "metadata": {},
   "outputs": [
    {
     "name": "stdout",
     "output_type": "stream",
     "text": [
      "Accuracy: 0.7200000000000002\n"
     ]
    }
   ],
   "source": [
    "predict_train = predict(train_x, train_set_label, parameters)"
   ]
  },
  {
   "cell_type": "code",
   "execution_count": 19,
   "metadata": {},
   "outputs": [
    {
     "name": "stdout",
     "output_type": "stream",
     "text": [
      "Accuracy: 0.5760000000000001\n"
     ]
    }
   ],
   "source": [
    "predict_test = predict(test_x, test_set_label, parameters)"
   ]
  },
  {
   "cell_type": "code",
   "execution_count": 21,
   "metadata": {},
   "outputs": [],
   "source": [
    "layers_dims = [12288,70, 40, 30, 26, 20, 10, 7, 5, 3, 1] #  10-layer model\n",
    "\n",
    "def multi_layer_model(X, Y, layers_dims, learning_rate = 0.0075, num_iterations = 3000, print_cost= False):\n",
    "    np.random.seed(1)\n",
    "    costs = []\n",
    "    parameters = initialize_parameters_deep(layers_dims)\n",
    "\n",
    "    # Loop (gradient descent)\n",
    "    for i in range(0, num_iterations):\n",
    "        # Forward propagation: [LINEAR -> RELU]*(L-1) -> LINEAR -> SIGMOID.\n",
    "        AL, caches = L_model_forward(X, parameters)\n",
    "        cost = compute_cost(AL, Y)\n",
    "\n",
    "        # Backward propagation.\n",
    "        grads = L_model_backward(AL, Y, caches)\n",
    "\n",
    "        parameters = update_parameters(parameters, grads, learning_rate)\n",
    "\n",
    "       # Print the cost every 100 training example\n",
    "        if print_cost and i % 100 == 0:\n",
    "            print (\"Cost after iteration %i: %f\" %(i, cost))\n",
    "        if print_cost and i % 100 == 0:\n",
    "            costs.append(cost)\n",
    "            \n",
    "    # plot the cost\n",
    "    plt.plot(np.squeeze(costs))\n",
    "    plt.ylabel('cost')\n",
    "    plt.xlabel('iterations (per tens)')\n",
    "    plt.title(\"Learning rate =\" + str(learning_rate))\n",
    "    plt.show()\n",
    "\n",
    "    return parameters"
   ]
  },
  {
   "cell_type": "code",
   "execution_count": 22,
   "metadata": {},
   "outputs": [
    {
     "name": "stdout",
     "output_type": "stream",
     "text": [
      "Cost after iteration 0: 0.693137\n",
      "Cost after iteration 100: 0.692959\n",
      "Cost after iteration 200: 0.692849\n",
      "Cost after iteration 300: 0.692714\n",
      "Cost after iteration 400: 0.692506\n",
      "Cost after iteration 500: 0.692346\n",
      "Cost after iteration 600: 0.692173\n",
      "Cost after iteration 700: 0.691949\n",
      "Cost after iteration 800: 0.691637\n",
      "Cost after iteration 900: 0.691302\n",
      "Cost after iteration 1000: 0.690927\n",
      "Cost after iteration 1100: 0.690490\n",
      "Cost after iteration 1200: 0.690049\n",
      "Cost after iteration 1300: 0.689532\n",
      "Cost after iteration 1400: 0.688938\n",
      "Cost after iteration 1500: 0.688292\n",
      "Cost after iteration 1600: 0.687537\n",
      "Cost after iteration 1700: 0.686655\n",
      "Cost after iteration 1800: 0.685649\n",
      "Cost after iteration 1900: 0.684483\n",
      "Cost after iteration 2000: 0.683066\n",
      "Cost after iteration 2100: 0.681332\n",
      "Cost after iteration 2200: 0.679304\n",
      "Cost after iteration 2300: 0.676903\n",
      "Cost after iteration 2400: 0.673981\n"
     ]
    },
    {
     "data": {
      "image/png": "[encoded data removed]",
      "text/plain": [
       "<Figure size 360x288 with 1 Axes>"
      ]
     },
     "metadata": {},
     "output_type": "display_data"
    }
   ],
   "source": [
    "# predictions\n",
    "parameters = multi_layer_model(train_x, train_set_label, layers_dims, num_iterations = 2500, print_cost = True)"
   ]
  },
  {
   "cell_type": "code",
   "execution_count": 24,
   "metadata": {},
   "outputs": [
    {
     "name": "stdout",
     "output_type": "stream",
     "text": [
      "Accuracy: 0.6310000000000001\n"
     ]
    }
   ],
   "source": [
    "predict_train_accuracy = predict(train_x, train_set_label, parameters)"
   ]
  },
  {
   "cell_type": "code",
   "execution_count": 25,
   "metadata": {},
   "outputs": [
    {
     "name": "stdout",
     "output_type": "stream",
     "text": [
      "Accuracy: 0.544\n"
     ]
    }
   ],
   "source": [
    "predict_test = predict(test_x, test_set_label, parameters)"
   ]
  },
  {
   "cell_type": "markdown",
   "metadata": {},
   "source": [
    "# Result analysis"
   ]
  },
  {
   "cell_type": "code",
   "execution_count": null,
   "metadata": {},
   "outputs": [],
   "source": [
    "print_mislabeled_images(classes, test_x, test_set_label, predict_test)"
   ]
  },
  {
   "cell_type": "code",
   "execution_count": null,
   "metadata": {},
   "outputs": [],
   "source": []
  }
 ],
 "metadata": {
  "kernelspec": {
   "display_name": "Python 3",
   "language": "python",
   "name": "python3"
  },
  "language_info": {
   "codemirror_mode": {
    "name": "ipython",
    "version": 3
   },
   "file_extension": ".py",
   "mimetype": "text/x-python",
   "name": "python",
   "nbconvert_exporter": "python",
   "pygments_lexer": "ipython3",
   "version": "3.5.2"
  }
 },
 "nbformat": 4,
 "nbformat_minor": 1
}
